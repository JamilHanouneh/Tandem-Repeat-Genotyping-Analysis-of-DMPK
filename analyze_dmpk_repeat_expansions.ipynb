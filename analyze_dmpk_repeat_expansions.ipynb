{
 "cells": [
  {
   "cell_type": "markdown",
   "id": "a2711f44",
   "metadata": {},
   "source": [
    "# DMPK Repeat Length QC & Visualization\n",
    "**Author:** Jamil Hanouneh  \n",
    "**Purpose:** Analyze DMPK consensus repeat sizes from a QC genotype table, classify expansion status, and visualize distributions.\n"
   ]
  },
  {
   "cell_type": "markdown",
   "id": "aa6b7afa",
   "metadata": {
    "jp-MarkdownHeadingCollapsed": true
   },
   "source": [
    "## Overview\n",
    "This notebook is a structured, notebook-ready version of your original Python script. The **code logic is unchanged**; it is simply organized into steps with explanatory Markdown for clarity and ease of review.\n",
    "\n",
    "### What you'll do here\n",
    "- Load a QC genotype CSV (first column used as the index).\n",
    "- Reshape the data to have samples as rows and metrics as columns.\n",
    "- Extract **DMPK consensus size** for **allele 0** and **allele 1**.\n",
    "- Classify repeats using a 50-repeat threshold.\n",
    "- Visualize the repeat length distribution and list potentially pathogenic expansions.\n",
    "\n",
    "> **Note:** Column names expected:\n",
    "> - `DMPK consensus size allele 0`  \n",
    "> - `DMPK consensus size allele 1`\n",
    ">\n",
    "> The CSV's first column should contain metric names; rows correspond to metrics and columns to samples before transposition.\n"
   ]
  },
  {
   "cell_type": "markdown",
   "id": "be5e14cf",
   "metadata": {},
   "source": [
    "## Requirements\n",
    "- Python 3\n",
    "- `pandas`\n",
    "- `matplotlib`\n",
    "\n",
    "Install (if needed):\n",
    "```bash\n",
    "pip install pandas matplotlib\n",
    "```\n"
   ]
  },
  {
   "cell_type": "markdown",
   "id": "0ddcd6e9",
   "metadata": {},
   "source": [
    "## 1) Configure input path\n",
    "Update the path below if your CSV is located somewhere else. The current path mirrors your original script.\n"
   ]
  },
  {
   "cell_type": "code",
   "execution_count": 1,
   "id": "75d4a91b",
   "metadata": {},
   "outputs": [],
   "source": [
    "import pandas as pd\n",
    "import matplotlib.pyplot as plt"
   ]
  },
  {
   "cell_type": "code",
   "execution_count": 2,
   "id": "ffafa51c",
   "metadata": {},
   "outputs": [],
   "source": [
    "# Path to QC genotype table (from your original script)\n",
    "qc_file = r'C:\\Users\\jamel\\Desktop\\ALS\\data\\QC-Target_Genotype_Table.csv'"
   ]
  },
  {
   "cell_type": "markdown",
   "id": "38fabf3a",
   "metadata": {},
   "source": [
    "## 2) Load CSV and inspect\n",
    "Loads the CSV with the **first column as the index**, then displays a preview for sanity-checking.\n"
   ]
  },
  {
   "cell_type": "code",
   "execution_count": 3,
   "id": "1d278c0e",
   "metadata": {},
   "outputs": [
    {
     "name": "stdout",
     "output_type": "stream",
     "text": [
      "Raw CSV head:\n",
      "                             NA03697B2 NA037562 NA04026C1 NA05131A2 NA06153B4  \\\n",
      "Sample                                                                          \n",
      "ATN1 repeat unit                   CAG      CAG       CAG       CAG       CAG   \n",
      "ATN1 read count allele 0           NaN      NaN       NaN       NaN       NaN   \n",
      "ATN1 consensus size allele 0       NaN      NaN       NaN       NaN       NaN   \n",
      "ATN1 min size allele 0             NaN      NaN       NaN       NaN       NaN   \n",
      "ATN1 max size allele 0             NaN      NaN       NaN       NaN       NaN   \n",
      "\n",
      "                             NA06905A9 NA06926A4 NA09237E2 NA13509A2 NA135152  \\\n",
      "Sample                                                                          \n",
      "ATN1 repeat unit                   CAG       CAG       CAG       CAG      CAG   \n",
      "ATN1 read count allele 0           NaN       NaN       NaN       NaN      NaN   \n",
      "ATN1 consensus size allele 0       NaN       NaN       NaN       NaN      NaN   \n",
      "ATN1 min size allele 0             NaN       NaN       NaN       NaN      NaN   \n",
      "ATN1 max size allele 0             NaN       NaN       NaN       NaN      NaN   \n",
      "\n",
      "                              ... NA13537A5 NA137164 NA137171 NA145196  \\\n",
      "Sample                        ...                                        \n",
      "ATN1 repeat unit              ...       CAG      CAG      CAG      CAG   \n",
      "ATN1 read count allele 0      ...       NaN      126      239      NaN   \n",
      "ATN1 consensus size allele 0  ...       NaN       60       57      NaN   \n",
      "ATN1 min size allele 0        ...       NaN       56       53      NaN   \n",
      "ATN1 max size allele 0        ...       NaN       77       70      NaN   \n",
      "\n",
      "                             NA15850L1 NA16215B2 NA232652 NA233782 NA236291  \\\n",
      "Sample                                                                        \n",
      "ATN1 repeat unit                   CAG       CAG      CAG      CAG      CAG   \n",
      "ATN1 read count allele 0           NaN       NaN      NaN      NaN      NaN   \n",
      "ATN1 consensus size allele 0       NaN       NaN      NaN      NaN      NaN   \n",
      "ATN1 min size allele 0             NaN       NaN      NaN      NaN      NaN   \n",
      "ATN1 max size allele 0             NaN       NaN      NaN      NaN      NaN   \n",
      "\n",
      "                             NA237092  \n",
      "Sample                                 \n",
      "ATN1 repeat unit                  CAG  \n",
      "ATN1 read count allele 0          NaN  \n",
      "ATN1 consensus size allele 0      NaN  \n",
      "ATN1 min size allele 0            NaN  \n",
      "ATN1 max size allele 0            NaN  \n",
      "\n",
      "[5 rows x 21 columns]\n"
     ]
    }
   ],
   "source": [
    "# Step 1: Load the CSV, setting the first column as the index\n",
    "qc_df = pd.read_csv(qc_file, index_col=0)\n",
    "\n",
    "# Debug: Print the first few rows to verify structure\n",
    "print(\"Raw CSV head:\")\n",
    "print(qc_df.head())"
   ]
  },
  {
   "cell_type": "markdown",
   "id": "a12dec69",
   "metadata": {},
   "source": [
    "## 3) Transpose and normalize column names\n",
    "Transpose so that **samples become rows** and **metrics become columns**, and carry over the sample IDs to a `Sample` column.\n"
   ]
  },
  {
   "cell_type": "code",
   "execution_count": 4,
   "id": "7329ef56",
   "metadata": {},
   "outputs": [
    {
     "name": "stdout",
     "output_type": "stream",
     "text": [
      "\n",
      "Transposed DataFrame head:\n",
      "Sample     Sample ATN1 repeat unit ATN1 read count allele 0  \\\n",
      "0       NA03697B2              CAG                      NaN   \n",
      "1        NA037562              CAG                      NaN   \n",
      "2       NA04026C1              CAG                      NaN   \n",
      "3       NA05131A2              CAG                      NaN   \n",
      "4       NA06153B4              CAG                      NaN   \n",
      "\n",
      "Sample ATN1 consensus size allele 0 ATN1 min size allele 0  \\\n",
      "0                               NaN                    NaN   \n",
      "1                               NaN                    NaN   \n",
      "2                               NaN                    NaN   \n",
      "3                               NaN                    NaN   \n",
      "4                               NaN                    NaN   \n",
      "\n",
      "Sample ATN1 max size allele 0 ATN1 motif counts allele 0  \\\n",
      "0                         NaN                        NaN   \n",
      "1                         NaN                        NaN   \n",
      "2                         NaN                        NaN   \n",
      "3                         NaN                        NaN   \n",
      "4                         NaN                        NaN   \n",
      "\n",
      "Sample ATN1 motif spans allele 0 ATN1 read count allele 1  \\\n",
      "0                            NaN                      NaN   \n",
      "1                            NaN                      NaN   \n",
      "2                            NaN                      NaN   \n",
      "3                            NaN                      NaN   \n",
      "4                            NaN                      NaN   \n",
      "\n",
      "Sample ATN1 consensus size allele 1  ... FMR1 min size allele 0  \\\n",
      "0                               NaN  ...                    NaN   \n",
      "1                               NaN  ...                    NaN   \n",
      "2                               NaN  ...                    351   \n",
      "3                               NaN  ...                    160   \n",
      "4                               NaN  ...                    NaN   \n",
      "\n",
      "Sample FMR1 max size allele 0 FMR1 motif counts allele 0  \\\n",
      "0                         NaN                        NaN   \n",
      "1                         NaN                        NaN   \n",
      "2                        4256                        707   \n",
      "3                        4059                        721   \n",
      "4                         NaN                        NaN   \n",
      "\n",
      "Sample FMR1 motif spans allele 0 FMR1 read count allele 1  \\\n",
      "0                            NaN                      NaN   \n",
      "1                            NaN                      NaN   \n",
      "2                      0(0-2116)                      NaN   \n",
      "3                      0(0-2161)                      NaN   \n",
      "4                            NaN                      NaN   \n",
      "\n",
      "Sample FMR1 consensus size allele 1 FMR1 min size allele 1  \\\n",
      "0                               NaN                    NaN   \n",
      "1                               NaN                    NaN   \n",
      "2                               NaN                    NaN   \n",
      "3                               NaN                    NaN   \n",
      "4                               NaN                    NaN   \n",
      "\n",
      "Sample FMR1 max size allele 1 FMR1 motif counts allele 1  \\\n",
      "0                         NaN                        NaN   \n",
      "1                         NaN                        NaN   \n",
      "2                         NaN                        NaN   \n",
      "3                         NaN                        NaN   \n",
      "4                         NaN                        NaN   \n",
      "\n",
      "Sample FMR1 motif spans allele 1  \n",
      "0                            NaN  \n",
      "1                            NaN  \n",
      "2                            NaN  \n",
      "3                            NaN  \n",
      "4                            NaN  \n",
      "\n",
      "[5 rows x 118 columns]\n"
     ]
    }
   ],
   "source": [
    "# Step 2: Transpose to make samples rows and metrics columns\n",
    "qc_df = qc_df.T.reset_index()\n",
    "qc_df = qc_df.rename(columns={'index': 'Sample'})\n",
    "\n",
    "# Debug: Print transposed DataFrame\n",
    "print(\"\\nTransposed DataFrame head:\")\n",
    "print(qc_df.head())"
   ]
  },
  {
   "cell_type": "markdown",
   "id": "b9ba435b",
   "metadata": {},
   "source": [
    "## 4) Extract DMPK consensus sizes (allele 0 & allele 1)\n",
    "Build a tidy table with `Sample`, `Allele`, and `Consensus Size` from the expected columns.\n"
   ]
  },
  {
   "cell_type": "code",
   "execution_count": 5,
   "id": "1e4c5289",
   "metadata": {},
   "outputs": [
    {
     "name": "stdout",
     "output_type": "stream",
     "text": [
      "\n",
      "DMPK DataFrame:\n",
      "      Sample    Allele  Consensus Size\n",
      "0  NA03697B2  Allele 0              36\n",
      "1  NA03697B2  Allele 1            1158\n",
      "2   NA037562  Allele 0              39\n",
      "3   NA037562  Allele 1             957\n",
      "4   NA232652  Allele 0              36\n",
      "5   NA232652  Allele 1             237\n",
      "6   NA233782  Allele 0              66\n",
      "7   NA233782  Allele 1             399\n"
     ]
    }
   ],
   "source": [
    "# Step 3: Extract DMPK consensus sizes for allele 0 and allele 1\n",
    "dmpk_data = []\n",
    "for sample in qc_df['Sample']:\n",
    "    # Get row for this sample\n",
    "    sample_row = qc_df[qc_df['Sample'] == sample]\n",
    "    \n",
    "    # Extract DMPK consensus size for allele 0\n",
    "    if 'DMPK consensus size allele 0' in qc_df.columns:\n",
    "        value = sample_row['DMPK consensus size allele 0'].iloc[0]\n",
    "        if pd.notna(value):\n",
    "            dmpk_data.append({'Sample': sample, 'Allele': 'Allele 0', 'Consensus Size': int(value)})\n",
    "    \n",
    "    # Extract DMPK consensus size for allele 1\n",
    "    if 'DMPK consensus size allele 1' in qc_df.columns:\n",
    "        value = sample_row['DMPK consensus size allele 1'].iloc[0]\n",
    "        if pd.notna(value):\n",
    "            dmpk_data.append({'Sample': sample, 'Allele': 'Allele 1', 'Consensus Size': int(value)})\n",
    "\n",
    "# Create DataFrame\n",
    "dmpk_df = pd.DataFrame(dmpk_data)\n",
    "\n",
    "# Debug: Print DMPK DataFrame\n",
    "print(\"\\nDMPK DataFrame:\")\n",
    "print(dmpk_df)"
   ]
  },
  {
   "cell_type": "markdown",
   "id": "d78433c6",
   "metadata": {},
   "source": [
    "## 5) QC: Verify extraction & classify expansions\n",
    "- If no rows were extracted, the notebook stops with a message.\n",
    "- Classify repeats: values **> 50** are labeled **\"Expanded (Potential Myotonic Dystrophy Risk)\"**; others as **\"Normal\"**.\n"
   ]
  },
  {
   "cell_type": "code",
   "execution_count": 6,
   "id": "16d02dcb",
   "metadata": {},
   "outputs": [
    {
     "name": "stdout",
     "output_type": "stream",
     "text": [
      "\n",
      "DMPK Repeat Lengths Across Samples:\n",
      "      Sample    Allele  Consensus Size  \\\n",
      "1  NA03697B2  Allele 1            1158   \n",
      "3   NA037562  Allele 1             957   \n",
      "7   NA233782  Allele 1             399   \n",
      "5   NA232652  Allele 1             237   \n",
      "6   NA233782  Allele 0              66   \n",
      "2   NA037562  Allele 0              39   \n",
      "0  NA03697B2  Allele 0              36   \n",
      "4   NA232652  Allele 0              36   \n",
      "\n",
      "                                         Status  \n",
      "1  Expanded (Potential Myotonic Dystrophy Risk)  \n",
      "3  Expanded (Potential Myotonic Dystrophy Risk)  \n",
      "7  Expanded (Potential Myotonic Dystrophy Risk)  \n",
      "5  Expanded (Potential Myotonic Dystrophy Risk)  \n",
      "6  Expanded (Potential Myotonic Dystrophy Risk)  \n",
      "2                                        Normal  \n",
      "0                                        Normal  \n",
      "4                                        Normal  \n"
     ]
    }
   ],
   "source": [
    "# Check if DataFrame is empty\n",
    "if dmpk_df.empty:\n",
    "    print(\"Error: No DMPK data extracted. Check CSV content for 'DMPK consensus size' rows.\")\n",
    "    import sys; sys.exit(0)\n",
    "\n",
    "# Step 4: Classify repeats (>50 repeats considered potentially pathogenic for DMPK)\n",
    "dmpk_df['Status'] = dmpk_df['Consensus Size'].apply(\n",
    "    lambda x: 'Expanded (Potential Myotonic Dystrophy Risk)' if x > 50 else 'Normal'\n",
    ")\n",
    "\n",
    "# Print summary\n",
    "print(\"\\nDMPK Repeat Lengths Across Samples:\")\n",
    "print(dmpk_df[['Sample', 'Allele', 'Consensus Size', 'Status']].sort_values('Consensus Size', ascending=False))"
   ]
  },
  {
   "cell_type": "markdown",
   "id": "da977c88",
   "metadata": {},
   "source": [
    "## 6) Visualize repeat length distribution\n",
    "Generates a bar chart of DMPK repeat lengths by `Sample_Allele`, with a dashed line at the **50-repeat** threshold.\n"
   ]
  },
  {
   "cell_type": "code",
   "execution_count": 7,
   "id": "4457bc65",
   "metadata": {},
   "outputs": [
    {
     "data": {
      "image/png": "[encoded data removed]",
      "text/plain": [
       "<Figure size 1000x600 with 1 Axes>"
      ]
     },
     "metadata": {},
     "output_type": "display_data"
    }
   ],
   "source": [
    "# Step 5: Create a bar chart for repeat length distribution\n",
    "plt.figure(figsize=(10, 6))\n",
    "bars = plt.bar(dmpk_df['Sample'] + '_' + dmpk_df['Allele'], dmpk_df['Consensus Size'], \n",
    "               color=dmpk_df['Status'].map({'Normal': 'skyblue', 'Expanded (Potential Myotonic Dystrophy Risk)': 'salmon'}))\n",
    "plt.axhline(y=50, color='red', linestyle='--', label='Pathogenic Threshold (>50 repeats)')\n",
    "plt.xlabel('Sample and Allele')\n",
    "plt.ylabel('DMPK Repeat Length (bp)')\n",
    "plt.title('DMPK Repeat Expansions in Coriell Samples (Mimicking Variant Discovery)')\n",
    "plt.legend()\n",
    "plt.xticks(rotation=45, ha='right')\n",
    "plt.tight_layout()\n",
    "\n",
    "# Add labels to bars\n",
    "for bar in bars:\n",
    "    yval = bar.get_height()\n",
    "    plt.text(bar.get_x() + bar.get_width()/2, yval + 20, int(yval), ha='center', va='bottom')\n",
    "\n",
    "# Step 6: Generate the chart (Chart.js structure retained from your script; not used directly here)\n",
    "chartjs = {\n",
    "    \"type\": \"bar\",\n",
    "    \"data\": {\n",
    "        \"labels\": (dmpk_df['Sample'] + '_' + dmpk_df['Allele']).tolist(),\n",
    "        \"datasets\": [{\n",
    "            \"label\": \"DMPK Repeat Length (bp)\",\n",
    "            \"data\": dmpk_df['Consensus Size'].tolist(),\n",
    "            \"backgroundColor\": dmpk_df['Status'].map({\n",
    "                'Normal': 'rgba(135, 206, 235, 0.7)',  # skyblue\n",
    "                'Expanded (Potential Myotonic Dystrophy Risk)': 'rgba(250, 128, 114, 0.7)'  # salmon\n",
    "            }).tolist(),\n",
    "            \"borderColor\": dmpk_df['Status'].map({\n",
    "                'Normal': 'rgba(135, 206, 235, 1)',\n",
    "                'Expanded (Potential Myotonic Dystrophy Risk)': 'rgba(250, 128, 114, 1)'\n",
    "            }).tolist(),\n",
    "            \"borderWidth\": 1\n",
    "        }]\n",
    "    },\n",
    "    \"options\": {\n",
    "        \"scales\": {\n",
    "            \"y\": {\n",
    "                \"beginAtZero\": True,\n",
    "                \"title\": {\n",
    "                    \"display\": True,\n",
    "                    \"text\": \"DMPK Repeat Length (bp)\"\n",
    "                }\n",
    "            },\n",
    "            \"x\": {\n",
    "                \"title\": {\n",
    "                    \"display\": True,\n",
    "                    \"text\": \"Sample and Allele\"\n",
    "                }\n",
    "            }\n",
    "        },\n",
    "        \"plugins\": {\n",
    "            \"legend\": {\n",
    "                \"display\": False\n",
    "            },\n",
    "            \"title\": {\n",
    "                \"display\": True,\n",
    "                \"text\": \"DMPK Repeat Expansions in Coriell Samples\"\n",
    "            },\n",
    "            \"annotation\": {\n",
    "                \"annotations\": {\n",
    "                    \"line1\": {\n",
    "                        \"type\": \"line\",\n",
    "                        \"yMin\": 50,\n",
    "                        \"yMax\": 50,\n",
    "                        \"borderColor\": \"red\",\n",
    "                        \"borderWidth\": 2,\n",
    "                        \"borderDash\": [5, 5],\n",
    "                        \"label\": {\n",
    "                            \"content\": \"Pathogenic Threshold (>50 repeats)\",\n",
    "                            \"enabled\": True,\n",
    "                            \"position\": \"end\"\n",
    "                        }\n",
    "                    }\n",
    "                }\n",
    "            }\n",
    "        }\n",
    "    }\n",
    "}\n",
    "\n",
    "plt.show()"
   ]
  },
  {
   "cell_type": "markdown",
   "id": "72718c11",
   "metadata": {},
   "source": [
    "## 7) List samples with potentially pathogenic expansions\n",
    "Outputs a compact table of samples/alleles with **Consensus Size > 50**.\n"
   ]
  },
  {
   "cell_type": "code",
   "execution_count": 8,
   "id": "f6aa7039",
   "metadata": {},
   "outputs": [
    {
     "name": "stdout",
     "output_type": "stream",
     "text": [
      "\n",
      "Samples with Potentially Pathogenic DMPK Expansions (>50 repeats):\n",
      "      Sample    Allele  Consensus Size\n",
      "1  NA03697B2  Allele 1            1158\n",
      "3   NA037562  Allele 1             957\n",
      "5   NA232652  Allele 1             237\n",
      "6   NA233782  Allele 0              66\n",
      "7   NA233782  Allele 1             399\n"
     ]
    }
   ],
   "source": [
    "# Step 7: Summarize potentially pathogenic expansions\n",
    "pathogenic = dmpk_df[dmpk_df['Status'] == 'Expanded (Potential Myotonic Dystrophy Risk)']\n",
    "print(\"\\nSamples with Potentially Pathogenic DMPK Expansions (>50 repeats):\")\n",
    "print(pathogenic[['Sample', 'Allele', 'Consensus Size']])"
   ]
  },
  {
   "cell_type": "markdown",
   "id": "567f5e0f",
   "metadata": {},
   "source": [
    "---\n",
    "## Interpretation & Notes\n",
    "- The **50-repeat** threshold is a commonly referenced cutoff for potential pathogenic expansion in DMPK (myotonic dystrophy type 1 context). Adapt thresholds as needed for your pipeline/reporting conventions.\n",
    "- If the extraction step yields no rows, double-check that your CSV has the expected columns and that the **first column is the metric/index**.\n",
    "\n",
    "## Troubleshooting\n",
    "- **Empty output**: Ensure the CSV path is correct and that the file is accessible.\n",
    "- **Missing columns**: Confirm the exact column names match `DMPK consensus size allele 0` and `DMPK consensus size allele 1`.\n",
    "- **Plot overlap**: If many samples are present, consider increasing figure size or filtering/aggregating before plotting.\n"
   ]
  }
 ],
 "metadata": {
  "kernelspec": {
   "display_name": "base",
   "language": "python",
   "name": "python3"
  },
  "language_info": {
   "codemirror_mode": {
    "name": "ipython",
    "version": 3
   },
   "file_extension": ".py",
   "mimetype": "text/x-python",
   "name": "python",
   "nbconvert_exporter": "python",
   "pygments_lexer": "ipython3",
   "version": "3.12.4"
  }
 },
 "nbformat": 4,
 "nbformat_minor": 5
}
